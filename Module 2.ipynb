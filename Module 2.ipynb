{
 "cells": [
  {
   "cell_type": "code",
   "execution_count": 4,
   "metadata": {
    "collapsed": true
   },
   "outputs": [],
   "source": [
    "import pandas as pd"
   ]
  },
  {
   "cell_type": "code",
   "execution_count": 5,
   "metadata": {},
   "outputs": [
    {
     "data": {
      "text/html": [
       "<div>\n",
       "<style>\n",
       "    .dataframe thead tr:only-child th {\n",
       "        text-align: right;\n",
       "    }\n",
       "\n",
       "    .dataframe thead th {\n",
       "        text-align: left;\n",
       "    }\n",
       "\n",
       "    .dataframe tbody tr th {\n",
       "        vertical-align: top;\n",
       "    }\n",
       "</style>\n",
       "<table border=\"1\" class=\"dataframe\">\n",
       "  <thead>\n",
       "    <tr style=\"text-align: right;\">\n",
       "      <th></th>\n",
       "      <th>PL_No</th>\n",
       "      <th>Code_A</th>\n",
       "      <th>Code_B</th>\n",
       "      <th>IRS_Symbol</th>\n",
       "      <th>Description_A(1)</th>\n",
       "      <th>Description_A(2)</th>\n",
       "      <th>Description_B</th>\n",
       "    </tr>\n",
       "  </thead>\n",
       "  <tbody>\n",
       "    <tr>\n",
       "      <th>0</th>\n",
       "      <td>1</td>\n",
       "      <td>0</td>\n",
       "      <td>1.0</td>\n",
       "      <td>AB</td>\n",
       "      <td>Steam locomotive parts &amp; fittings</td>\n",
       "      <td>WP/WG/WL/WT.</td>\n",
       "      <td>Axle Boxes and details.</td>\n",
       "    </tr>\n",
       "    <tr>\n",
       "      <th>1</th>\n",
       "      <td>2</td>\n",
       "      <td>0</td>\n",
       "      <td>2.0</td>\n",
       "      <td>TB</td>\n",
       "      <td>Steam locomotive parts &amp; fittings</td>\n",
       "      <td>WP/WG/WL/WT.</td>\n",
       "      <td>Tender Axle Boxes and details.</td>\n",
       "    </tr>\n",
       "    <tr>\n",
       "      <th>2</th>\n",
       "      <td>4</td>\n",
       "      <td>0</td>\n",
       "      <td>4.0</td>\n",
       "      <td>SN</td>\n",
       "      <td>Steam locomotive parts &amp; fittings</td>\n",
       "      <td>WP/WG/WL/WT.</td>\n",
       "      <td>Spring &amp; Spring Gear.</td>\n",
       "    </tr>\n",
       "    <tr>\n",
       "      <th>3</th>\n",
       "      <td>5</td>\n",
       "      <td>0</td>\n",
       "      <td>5.0</td>\n",
       "      <td>TY</td>\n",
       "      <td>Steam locomotive parts &amp; fittings</td>\n",
       "      <td>WP/WG/WL/WT.</td>\n",
       "      <td>Tyres.</td>\n",
       "    </tr>\n",
       "    <tr>\n",
       "      <th>4</th>\n",
       "      <td>6</td>\n",
       "      <td>0</td>\n",
       "      <td>6.0</td>\n",
       "      <td>WL</td>\n",
       "      <td>Steam locomotive parts &amp; fittings</td>\n",
       "      <td>WP/WG/WL/WT.</td>\n",
       "      <td>Wheels and Axles.</td>\n",
       "    </tr>\n",
       "  </tbody>\n",
       "</table>\n",
       "</div>"
      ],
      "text/plain": [
       "   PL_No Code_A  Code_B IRS_Symbol                   Description_A(1)  \\\n",
       "0      1      0     1.0         AB  Steam locomotive parts & fittings   \n",
       "1      2      0     2.0         TB  Steam locomotive parts & fittings   \n",
       "2      4      0     4.0         SN  Steam locomotive parts & fittings   \n",
       "3      5      0     5.0         TY  Steam locomotive parts & fittings   \n",
       "4      6      0     6.0         WL  Steam locomotive parts & fittings   \n",
       "\n",
       "  Description_A(2)                   Description_B  \n",
       "0     WP/WG/WL/WT.         Axle Boxes and details.  \n",
       "1     WP/WG/WL/WT.  Tender Axle Boxes and details.  \n",
       "2     WP/WG/WL/WT.           Spring & Spring Gear.  \n",
       "3     WP/WG/WL/WT.                          Tyres.  \n",
       "4     WP/WG/WL/WT.               Wheels and Axles.  "
      ]
     },
     "execution_count": 5,
     "metadata": {},
     "output_type": "execute_result"
    }
   ],
   "source": [
    "df = pd.read_excel('pl_numbers.xlsx')\n",
    "df.head()"
   ]
  },
  {
   "cell_type": "code",
   "execution_count": 8,
   "metadata": {},
   "outputs": [
    {
     "name": "stdout",
     "output_type": "stream",
     "text": [
      "3801\n"
     ]
    },
    {
     "data": {
      "text/html": [
       "<div>\n",
       "<style>\n",
       "    .dataframe thead tr:only-child th {\n",
       "        text-align: right;\n",
       "    }\n",
       "\n",
       "    .dataframe thead th {\n",
       "        text-align: left;\n",
       "    }\n",
       "\n",
       "    .dataframe tbody tr th {\n",
       "        vertical-align: top;\n",
       "    }\n",
       "</style>\n",
       "<table border=\"1\" class=\"dataframe\">\n",
       "  <thead>\n",
       "    <tr style=\"text-align: right;\">\n",
       "      <th></th>\n",
       "      <th>PL_No</th>\n",
       "      <th>Code_A</th>\n",
       "      <th>Code_B</th>\n",
       "      <th>IRS_Symbol</th>\n",
       "      <th>Description_A(1)</th>\n",
       "      <th>Description_A(2)</th>\n",
       "      <th>Description_B</th>\n",
       "    </tr>\n",
       "  </thead>\n",
       "  <tbody>\n",
       "    <tr>\n",
       "      <th>2233</th>\n",
       "      <td>3801</td>\n",
       "      <td>38</td>\n",
       "      <td>1.0</td>\n",
       "      <td>AB</td>\n",
       "      <td>Carriage, Wagon, EMU, Railcar Parts &amp; fittings</td>\n",
       "      <td>New IRS stock wagons, BOX, BOI, BCX, BRH &amp; fu...</td>\n",
       "      <td>Axle boxes and details.</td>\n",
       "    </tr>\n",
       "  </tbody>\n",
       "</table>\n",
       "</div>"
      ],
      "text/plain": [
       "      PL_No Code_A  Code_B IRS_Symbol  \\\n",
       "2233   3801     38     1.0         AB   \n",
       "\n",
       "                                    Description_A(1)  \\\n",
       "2233  Carriage, Wagon, EMU, Railcar Parts & fittings   \n",
       "\n",
       "                                       Description_A(2)  \\\n",
       "2233   New IRS stock wagons, BOX, BOI, BCX, BRH & fu...   \n",
       "\n",
       "                Description_B  \n",
       "2233  Axle boxes and details.  "
      ]
     },
     "execution_count": 8,
     "metadata": {},
     "output_type": "execute_result"
    }
   ],
   "source": [
    "n=int(input())\n",
    "df.loc[df['PL_No'] == n]"
   ]
  },
  {
   "cell_type": "code",
   "execution_count": null,
   "metadata": {
    "collapsed": true
   },
   "outputs": [],
   "source": []
  }
 ],
 "metadata": {
  "kernelspec": {
   "display_name": "Python 3",
   "language": "python",
   "name": "python3"
  },
  "language_info": {
   "codemirror_mode": {
    "name": "ipython",
    "version": 3
   },
   "file_extension": ".py",
   "mimetype": "text/x-python",
   "name": "python",
   "nbconvert_exporter": "python",
   "pygments_lexer": "ipython3",
   "version": "3.5.4"
  }
 },
 "nbformat": 4,
 "nbformat_minor": 2
}
